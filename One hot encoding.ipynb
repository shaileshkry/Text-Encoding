{
 "cells": [
  {
   "cell_type": "code",
   "execution_count": 70,
   "id": "0cdb55e9",
   "metadata": {},
   "outputs": [],
   "source": [
    "from nltk.tokenize import word_tokenize,sent_tokenize\n",
    "from nltk.corpus import stopwords\n",
    "import pandas as pd"
   ]
  },
  {
   "cell_type": "code",
   "execution_count": 45,
   "id": "7bba691b",
   "metadata": {},
   "outputs": [],
   "source": [
    "#import nltk\n",
    "#nltk.download('stopwords')"
   ]
  },
  {
   "cell_type": "code",
   "execution_count": 46,
   "id": "fb060f33",
   "metadata": {},
   "outputs": [],
   "source": [
    "txt=\"\"\"A hint of controversy as we wrap up the coverage of the 3rd T20I. Was Rohit declared retired out / retired hurt.\n",
    "\n",
    "\"\"\""
   ]
  },
  {
   "cell_type": "code",
   "execution_count": 47,
   "id": "8c9cd50f",
   "metadata": {},
   "outputs": [
    {
     "data": {
      "text/plain": [
       "114"
      ]
     },
     "execution_count": 47,
     "metadata": {},
     "output_type": "execute_result"
    }
   ],
   "source": [
    "len(txt)"
   ]
  },
  {
   "cell_type": "code",
   "execution_count": 48,
   "id": "6ed33edf",
   "metadata": {},
   "outputs": [
    {
     "data": {
      "text/plain": [
       "['i',\n",
       " 'me',\n",
       " 'my',\n",
       " 'myself',\n",
       " 'we',\n",
       " 'our',\n",
       " 'ours',\n",
       " 'ourselves',\n",
       " 'you',\n",
       " \"you're\",\n",
       " \"you've\",\n",
       " \"you'll\",\n",
       " \"you'd\",\n",
       " 'your',\n",
       " 'yours',\n",
       " 'yourself',\n",
       " 'yourselves',\n",
       " 'he',\n",
       " 'him',\n",
       " 'his',\n",
       " 'himself',\n",
       " 'she',\n",
       " \"she's\",\n",
       " 'her',\n",
       " 'hers',\n",
       " 'herself',\n",
       " 'it',\n",
       " \"it's\",\n",
       " 'its',\n",
       " 'itself',\n",
       " 'they',\n",
       " 'them',\n",
       " 'their',\n",
       " 'theirs',\n",
       " 'themselves',\n",
       " 'what',\n",
       " 'which',\n",
       " 'who',\n",
       " 'whom',\n",
       " 'this',\n",
       " 'that',\n",
       " \"that'll\",\n",
       " 'these',\n",
       " 'those',\n",
       " 'am',\n",
       " 'is',\n",
       " 'are',\n",
       " 'was',\n",
       " 'were',\n",
       " 'be',\n",
       " 'been',\n",
       " 'being',\n",
       " 'have',\n",
       " 'has',\n",
       " 'had',\n",
       " 'having',\n",
       " 'do',\n",
       " 'does',\n",
       " 'did',\n",
       " 'doing',\n",
       " 'a',\n",
       " 'an',\n",
       " 'the',\n",
       " 'and',\n",
       " 'but',\n",
       " 'if',\n",
       " 'or',\n",
       " 'because',\n",
       " 'as',\n",
       " 'until',\n",
       " 'while',\n",
       " 'of',\n",
       " 'at',\n",
       " 'by',\n",
       " 'for',\n",
       " 'with',\n",
       " 'about',\n",
       " 'against',\n",
       " 'between',\n",
       " 'into',\n",
       " 'through',\n",
       " 'during',\n",
       " 'before',\n",
       " 'after',\n",
       " 'above',\n",
       " 'below',\n",
       " 'to',\n",
       " 'from',\n",
       " 'up',\n",
       " 'down',\n",
       " 'in',\n",
       " 'out',\n",
       " 'on',\n",
       " 'off',\n",
       " 'over',\n",
       " 'under',\n",
       " 'again',\n",
       " 'further',\n",
       " 'then',\n",
       " 'once',\n",
       " 'here',\n",
       " 'there',\n",
       " 'when',\n",
       " 'where',\n",
       " 'why',\n",
       " 'how',\n",
       " 'all',\n",
       " 'any',\n",
       " 'both',\n",
       " 'each',\n",
       " 'few',\n",
       " 'more',\n",
       " 'most',\n",
       " 'other',\n",
       " 'some',\n",
       " 'such',\n",
       " 'no',\n",
       " 'nor',\n",
       " 'not',\n",
       " 'only',\n",
       " 'own',\n",
       " 'same',\n",
       " 'so',\n",
       " 'than',\n",
       " 'too',\n",
       " 'very',\n",
       " 's',\n",
       " 't',\n",
       " 'can',\n",
       " 'will',\n",
       " 'just',\n",
       " 'don',\n",
       " \"don't\",\n",
       " 'should',\n",
       " \"should've\",\n",
       " 'now',\n",
       " 'd',\n",
       " 'll',\n",
       " 'm',\n",
       " 'o',\n",
       " 're',\n",
       " 've',\n",
       " 'y',\n",
       " 'ain',\n",
       " 'aren',\n",
       " \"aren't\",\n",
       " 'couldn',\n",
       " \"couldn't\",\n",
       " 'didn',\n",
       " \"didn't\",\n",
       " 'doesn',\n",
       " \"doesn't\",\n",
       " 'hadn',\n",
       " \"hadn't\",\n",
       " 'hasn',\n",
       " \"hasn't\",\n",
       " 'haven',\n",
       " \"haven't\",\n",
       " 'isn',\n",
       " \"isn't\",\n",
       " 'ma',\n",
       " 'mightn',\n",
       " \"mightn't\",\n",
       " 'mustn',\n",
       " \"mustn't\",\n",
       " 'needn',\n",
       " \"needn't\",\n",
       " 'shan',\n",
       " \"shan't\",\n",
       " 'shouldn',\n",
       " \"shouldn't\",\n",
       " 'wasn',\n",
       " \"wasn't\",\n",
       " 'weren',\n",
       " \"weren't\",\n",
       " 'won',\n",
       " \"won't\",\n",
       " 'wouldn',\n",
       " \"wouldn't\"]"
      ]
     },
     "execution_count": 48,
     "metadata": {},
     "output_type": "execute_result"
    }
   ],
   "source": [
    "stopwords.words('english')"
   ]
  },
  {
   "cell_type": "code",
   "execution_count": 49,
   "id": "ea2ebab1",
   "metadata": {},
   "outputs": [
    {
     "data": {
      "text/plain": [
       "179"
      ]
     },
     "execution_count": 49,
     "metadata": {},
     "output_type": "execute_result"
    }
   ],
   "source": [
    "len(stopwords.words('english'))"
   ]
  },
  {
   "cell_type": "code",
   "execution_count": 50,
   "id": "11e539ec",
   "metadata": {},
   "outputs": [],
   "source": [
    "#Removing stop words\n",
    "words=[]\n",
    "for word in word_tokenize(txt):\n",
    "    if (word.lower() not in stopwords.words('english') and len(word)>1):\n",
    "        words.append(word.lower())"
   ]
  },
  {
   "cell_type": "code",
   "execution_count": 51,
   "id": "8ed80b19",
   "metadata": {},
   "outputs": [
    {
     "data": {
      "text/plain": [
       "11"
      ]
     },
     "execution_count": 51,
     "metadata": {},
     "output_type": "execute_result"
    }
   ],
   "source": [
    "len(words)"
   ]
  },
  {
   "cell_type": "code",
   "execution_count": 52,
   "id": "2bac4248",
   "metadata": {},
   "outputs": [],
   "source": [
    "vocab=list(set(words))"
   ]
  },
  {
   "cell_type": "code",
   "execution_count": 53,
   "id": "adf90ced",
   "metadata": {},
   "outputs": [
    {
     "data": {
      "text/plain": [
       "10"
      ]
     },
     "execution_count": 53,
     "metadata": {},
     "output_type": "execute_result"
    }
   ],
   "source": [
    "len(vocab)"
   ]
  },
  {
   "cell_type": "markdown",
   "id": "b104082d",
   "metadata": {},
   "source": [
    "### Creating encoder and decoder "
   ]
  },
  {
   "cell_type": "code",
   "execution_count": 54,
   "id": "c241ab67",
   "metadata": {},
   "outputs": [],
   "source": [
    "num=1\n",
    "word_to_num={}\n",
    "num_to_word={}\n",
    "for word in vocab:\n",
    "    word_to_num[word]=num\n",
    "    num_to_word[num]=word\n",
    "    num+=1"
   ]
  },
  {
   "cell_type": "code",
   "execution_count": 55,
   "id": "ca4d7ad5",
   "metadata": {},
   "outputs": [
    {
     "data": {
      "text/plain": [
       "{'hurt': 1,\n",
       " 't20i': 2,\n",
       " 'controversy': 3,\n",
       " 'rohit': 4,\n",
       " 'coverage': 5,\n",
       " 'declared': 6,\n",
       " 'wrap': 7,\n",
       " '3rd': 8,\n",
       " 'hint': 9,\n",
       " 'retired': 10}"
      ]
     },
     "execution_count": 55,
     "metadata": {},
     "output_type": "execute_result"
    }
   ],
   "source": [
    "word_to_num"
   ]
  },
  {
   "cell_type": "code",
   "execution_count": 56,
   "id": "1c84df7d",
   "metadata": {},
   "outputs": [
    {
     "data": {
      "text/plain": [
       "'coverage'"
      ]
     },
     "execution_count": 56,
     "metadata": {},
     "output_type": "execute_result"
    }
   ],
   "source": [
    "num_to_word[5]"
   ]
  },
  {
   "cell_type": "markdown",
   "id": "d5f7cac0",
   "metadata": {},
   "source": [
    "### Encoding Sentences"
   ]
  },
  {
   "cell_type": "code",
   "execution_count": 57,
   "id": "9d3171ed",
   "metadata": {},
   "outputs": [
    {
     "name": "stdout",
     "output_type": "stream",
     "text": [
      "A hint of controversy as we wrap up the coverage of the 3rd T20I.\n",
      "Was Rohit declared retired out / retired hurt.\n"
     ]
    }
   ],
   "source": [
    "for sent in sent_tokenize(txt):\n",
    "    print(sent)"
   ]
  },
  {
   "cell_type": "code",
   "execution_count": 58,
   "id": "00b9915a",
   "metadata": {},
   "outputs": [
    {
     "name": "stdout",
     "output_type": "stream",
     "text": [
      "['A', 'hint', 'of', 'controversy', 'as', 'we', 'wrap', 'up', 'the', 'coverage', 'of', 'the', '3rd', 'T20I', '.']\n",
      "['Was', 'Rohit', 'declared', 'retired', 'out', '/', 'retired', 'hurt', '.']\n"
     ]
    }
   ],
   "source": [
    "for sent in sent_tokenize(txt):\n",
    "    print(word_tokenize(sent))"
   ]
  },
  {
   "cell_type": "code",
   "execution_count": 59,
   "id": "4892aa2f",
   "metadata": {
    "scrolled": true
   },
   "outputs": [
    {
     "name": "stdout",
     "output_type": "stream",
     "text": [
      "['hint', 'controversy', 'wrap', 'coverage', '3rd', 't20i']\n",
      "[9, 3, 7, 5, 8, 2]\n",
      "['rohit', 'declared', 'retired', 'retired', 'hurt']\n",
      "[4, 6, 10, 10, 1]\n"
     ]
    }
   ],
   "source": [
    "sentence_num=[]\n",
    "sentence=[]\n",
    "for sent in sent_tokenize(txt):\n",
    "    words_=[]\n",
    "    words_num=[]\n",
    "    \n",
    "    for word in word_tokenize(sent):\n",
    "        if (word.lower() not in stopwords.words('english') and len(word)>1):\n",
    "            words_.append(word.lower())\n",
    "            #print(word,end=' ')\n",
    "            #print(word_to_num[word.lower()],end=' ')\n",
    "            words_num.append(word_to_num[word.lower()])\n",
    "    print(words_)\n",
    "    sentence.append(' '.join(words_))\n",
    "    sentence_num.append(words_num)\n",
    "    print(words_num)"
   ]
  },
  {
   "cell_type": "markdown",
   "id": "7189426b",
   "metadata": {},
   "source": [
    "### Decoding Sentences"
   ]
  },
  {
   "cell_type": "code",
   "execution_count": 60,
   "id": "8396e1f5",
   "metadata": {},
   "outputs": [
    {
     "name": "stdout",
     "output_type": "stream",
     "text": [
      "hint controversy wrap coverage 3rd t20i \n",
      "rohit declared retired retired hurt \n"
     ]
    }
   ],
   "source": [
    "for sent in sentence_num:\n",
    "    for word in sent:\n",
    "        print(num_to_word[word],end=' ')\n",
    "    print()"
   ]
  },
  {
   "cell_type": "code",
   "execution_count": 65,
   "id": "6aad9a14",
   "metadata": {},
   "outputs": [
    {
     "data": {
      "text/plain": [
       "[4, 6, 10, 10, 1]"
      ]
     },
     "execution_count": 65,
     "metadata": {},
     "output_type": "execute_result"
    }
   ],
   "source": [
    "sentence_num[1]"
   ]
  },
  {
   "cell_type": "code",
   "execution_count": 62,
   "id": "3ed0b1c0",
   "metadata": {},
   "outputs": [
    {
     "data": {
      "text/plain": [
       "'hint controversy wrap coverage 3rd t20i'"
      ]
     },
     "execution_count": 62,
     "metadata": {},
     "output_type": "execute_result"
    }
   ],
   "source": [
    "sentence[0]"
   ]
  },
  {
   "cell_type": "markdown",
   "id": "52826c89",
   "metadata": {},
   "source": [
    "### One hot encoding"
   ]
  },
  {
   "cell_type": "code",
   "execution_count": 68,
   "id": "54c70bd8",
   "metadata": {},
   "outputs": [
    {
     "name": "stdout",
     "output_type": "stream",
     "text": [
      "['hurt', 't20i', 'controversy', 'rohit', 'coverage', 'declared', 'wrap', '3rd', 'hint', 'retired']\n",
      "hint controversy wrap coverage 3rd t20i [0, 1, 1, 0, 1, 0, 1, 1, 1, 0]\n",
      "rohit declared retired retired hurt [1, 0, 0, 1, 0, 1, 0, 0, 0, 1]\n"
     ]
    }
   ],
   "source": [
    "encoded=[]\n",
    "print(vocab)\n",
    "j=0\n",
    "for indexes in sentence_num:\n",
    "    enc=[0 for x in range(len(vocab))]\n",
    "    for index in indexes:\n",
    "        enc[index-1]=1\n",
    "    print(sentence[j],enc)\n",
    "    encoded.append(enc)\n",
    "    j+=1"
   ]
  },
  {
   "cell_type": "code",
   "execution_count": 69,
   "id": "84a83df3",
   "metadata": {},
   "outputs": [
    {
     "data": {
      "text/plain": [
       "[[0, 1, 1, 0, 1, 0, 1, 1, 1, 0], [1, 0, 0, 1, 0, 1, 0, 0, 0, 1]]"
      ]
     },
     "execution_count": 69,
     "metadata": {},
     "output_type": "execute_result"
    }
   ],
   "source": [
    "encoded"
   ]
  },
  {
   "cell_type": "code",
   "execution_count": 71,
   "id": "a9f6addb",
   "metadata": {},
   "outputs": [],
   "source": [
    "df_encoded=pd.DataFrame(encoded,columns=vocab)"
   ]
  },
  {
   "cell_type": "code",
   "execution_count": 72,
   "id": "1d5f5cfa",
   "metadata": {},
   "outputs": [
    {
     "data": {
      "text/html": [
       "<div>\n",
       "<style scoped>\n",
       "    .dataframe tbody tr th:only-of-type {\n",
       "        vertical-align: middle;\n",
       "    }\n",
       "\n",
       "    .dataframe tbody tr th {\n",
       "        vertical-align: top;\n",
       "    }\n",
       "\n",
       "    .dataframe thead th {\n",
       "        text-align: right;\n",
       "    }\n",
       "</style>\n",
       "<table border=\"1\" class=\"dataframe\">\n",
       "  <thead>\n",
       "    <tr style=\"text-align: right;\">\n",
       "      <th></th>\n",
       "      <th>hurt</th>\n",
       "      <th>t20i</th>\n",
       "      <th>controversy</th>\n",
       "      <th>rohit</th>\n",
       "      <th>coverage</th>\n",
       "      <th>declared</th>\n",
       "      <th>wrap</th>\n",
       "      <th>3rd</th>\n",
       "      <th>hint</th>\n",
       "      <th>retired</th>\n",
       "    </tr>\n",
       "  </thead>\n",
       "  <tbody>\n",
       "    <tr>\n",
       "      <th>0</th>\n",
       "      <td>0</td>\n",
       "      <td>1</td>\n",
       "      <td>1</td>\n",
       "      <td>0</td>\n",
       "      <td>1</td>\n",
       "      <td>0</td>\n",
       "      <td>1</td>\n",
       "      <td>1</td>\n",
       "      <td>1</td>\n",
       "      <td>0</td>\n",
       "    </tr>\n",
       "    <tr>\n",
       "      <th>1</th>\n",
       "      <td>1</td>\n",
       "      <td>0</td>\n",
       "      <td>0</td>\n",
       "      <td>1</td>\n",
       "      <td>0</td>\n",
       "      <td>1</td>\n",
       "      <td>0</td>\n",
       "      <td>0</td>\n",
       "      <td>0</td>\n",
       "      <td>1</td>\n",
       "    </tr>\n",
       "  </tbody>\n",
       "</table>\n",
       "</div>"
      ],
      "text/plain": [
       "   hurt  t20i  controversy  rohit  coverage  declared  wrap  3rd  hint  \\\n",
       "0     0     1            1      0         1         0     1    1     1   \n",
       "1     1     0            0      1         0         1     0    0     0   \n",
       "\n",
       "   retired  \n",
       "0        0  \n",
       "1        1  "
      ]
     },
     "execution_count": 72,
     "metadata": {},
     "output_type": "execute_result"
    }
   ],
   "source": [
    "df_encoded"
   ]
  },
  {
   "cell_type": "code",
   "execution_count": null,
   "id": "06c31c1d",
   "metadata": {},
   "outputs": [],
   "source": []
  },
  {
   "cell_type": "code",
   "execution_count": null,
   "id": "51764f3e",
   "metadata": {},
   "outputs": [],
   "source": []
  }
 ],
 "metadata": {
  "kernelspec": {
   "display_name": "Python 3 (ipykernel)",
   "language": "python",
   "name": "python3"
  },
  "language_info": {
   "codemirror_mode": {
    "name": "ipython",
    "version": 3
   },
   "file_extension": ".py",
   "mimetype": "text/x-python",
   "name": "python",
   "nbconvert_exporter": "python",
   "pygments_lexer": "ipython3",
   "version": "3.11.5"
  }
 },
 "nbformat": 4,
 "nbformat_minor": 5
}
