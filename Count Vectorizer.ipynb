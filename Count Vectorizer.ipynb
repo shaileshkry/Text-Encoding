{
 "cells": [
  {
   "cell_type": "code",
   "execution_count": 28,
   "id": "a20bdb42",
   "metadata": {},
   "outputs": [],
   "source": [
    "from sklearn.feature_extraction.text import CountVectorizer\n",
    "from nltk.tokenize import word_tokenize,sent_tokenize\n",
    "import pandas as pd"
   ]
  },
  {
   "cell_type": "code",
   "execution_count": 29,
   "id": "c7e5e488",
   "metadata": {},
   "outputs": [],
   "source": [
    "vec=CountVectorizer()"
   ]
  },
  {
   "cell_type": "code",
   "execution_count": 30,
   "id": "678ca2ca",
   "metadata": {},
   "outputs": [],
   "source": [
    "txt=\"\"\"A hint of controversy as we wrap up the coverage of the 3rd T20I. Was Rohit declared retired out / retired hurt.\n",
    "there\n",
    "\"\"\""
   ]
  },
  {
   "cell_type": "code",
   "execution_count": 31,
   "id": "79a1ec52",
   "metadata": {},
   "outputs": [
    {
     "data": {
      "text/plain": [
       "['A hint of controversy as we wrap up the coverage of the 3rd T20I.',\n",
       " 'Was Rohit declared retired out / retired hurt.',\n",
       " 'there']"
      ]
     },
     "execution_count": 31,
     "metadata": {},
     "output_type": "execute_result"
    }
   ],
   "source": [
    "sentences=[]\n",
    "for sentence in sent_tokenize(txt):\n",
    "    #print(sentence)\n",
    "    sentences.append(sentence)\n",
    "sentences"
   ]
  },
  {
   "cell_type": "code",
   "execution_count": 32,
   "id": "ce00e1ee",
   "metadata": {},
   "outputs": [
    {
     "data": {
      "text/html": [
       "<style>#sk-container-id-3 {color: black;}#sk-container-id-3 pre{padding: 0;}#sk-container-id-3 div.sk-toggleable {background-color: white;}#sk-container-id-3 label.sk-toggleable__label {cursor: pointer;display: block;width: 100%;margin-bottom: 0;padding: 0.3em;box-sizing: border-box;text-align: center;}#sk-container-id-3 label.sk-toggleable__label-arrow:before {content: \"▸\";float: left;margin-right: 0.25em;color: #696969;}#sk-container-id-3 label.sk-toggleable__label-arrow:hover:before {color: black;}#sk-container-id-3 div.sk-estimator:hover label.sk-toggleable__label-arrow:before {color: black;}#sk-container-id-3 div.sk-toggleable__content {max-height: 0;max-width: 0;overflow: hidden;text-align: left;background-color: #f0f8ff;}#sk-container-id-3 div.sk-toggleable__content pre {margin: 0.2em;color: black;border-radius: 0.25em;background-color: #f0f8ff;}#sk-container-id-3 input.sk-toggleable__control:checked~div.sk-toggleable__content {max-height: 200px;max-width: 100%;overflow: auto;}#sk-container-id-3 input.sk-toggleable__control:checked~label.sk-toggleable__label-arrow:before {content: \"▾\";}#sk-container-id-3 div.sk-estimator input.sk-toggleable__control:checked~label.sk-toggleable__label {background-color: #d4ebff;}#sk-container-id-3 div.sk-label input.sk-toggleable__control:checked~label.sk-toggleable__label {background-color: #d4ebff;}#sk-container-id-3 input.sk-hidden--visually {border: 0;clip: rect(1px 1px 1px 1px);clip: rect(1px, 1px, 1px, 1px);height: 1px;margin: -1px;overflow: hidden;padding: 0;position: absolute;width: 1px;}#sk-container-id-3 div.sk-estimator {font-family: monospace;background-color: #f0f8ff;border: 1px dotted black;border-radius: 0.25em;box-sizing: border-box;margin-bottom: 0.5em;}#sk-container-id-3 div.sk-estimator:hover {background-color: #d4ebff;}#sk-container-id-3 div.sk-parallel-item::after {content: \"\";width: 100%;border-bottom: 1px solid gray;flex-grow: 1;}#sk-container-id-3 div.sk-label:hover label.sk-toggleable__label {background-color: #d4ebff;}#sk-container-id-3 div.sk-serial::before {content: \"\";position: absolute;border-left: 1px solid gray;box-sizing: border-box;top: 0;bottom: 0;left: 50%;z-index: 0;}#sk-container-id-3 div.sk-serial {display: flex;flex-direction: column;align-items: center;background-color: white;padding-right: 0.2em;padding-left: 0.2em;position: relative;}#sk-container-id-3 div.sk-item {position: relative;z-index: 1;}#sk-container-id-3 div.sk-parallel {display: flex;align-items: stretch;justify-content: center;background-color: white;position: relative;}#sk-container-id-3 div.sk-item::before, #sk-container-id-3 div.sk-parallel-item::before {content: \"\";position: absolute;border-left: 1px solid gray;box-sizing: border-box;top: 0;bottom: 0;left: 50%;z-index: -1;}#sk-container-id-3 div.sk-parallel-item {display: flex;flex-direction: column;z-index: 1;position: relative;background-color: white;}#sk-container-id-3 div.sk-parallel-item:first-child::after {align-self: flex-end;width: 50%;}#sk-container-id-3 div.sk-parallel-item:last-child::after {align-self: flex-start;width: 50%;}#sk-container-id-3 div.sk-parallel-item:only-child::after {width: 0;}#sk-container-id-3 div.sk-dashed-wrapped {border: 1px dashed gray;margin: 0 0.4em 0.5em 0.4em;box-sizing: border-box;padding-bottom: 0.4em;background-color: white;}#sk-container-id-3 div.sk-label label {font-family: monospace;font-weight: bold;display: inline-block;line-height: 1.2em;}#sk-container-id-3 div.sk-label-container {text-align: center;}#sk-container-id-3 div.sk-container {/* jupyter's `normalize.less` sets `[hidden] { display: none; }` but bootstrap.min.css set `[hidden] { display: none !important; }` so we also need the `!important` here to be able to override the default hidden behavior on the sphinx rendered scikit-learn.org. See: https://github.com/scikit-learn/scikit-learn/issues/21755 */display: inline-block !important;position: relative;}#sk-container-id-3 div.sk-text-repr-fallback {display: none;}</style><div id=\"sk-container-id-3\" class=\"sk-top-container\"><div class=\"sk-text-repr-fallback\"><pre>CountVectorizer()</pre><b>In a Jupyter environment, please rerun this cell to show the HTML representation or trust the notebook. <br />On GitHub, the HTML representation is unable to render, please try loading this page with nbviewer.org.</b></div><div class=\"sk-container\" hidden><div class=\"sk-item\"><div class=\"sk-estimator sk-toggleable\"><input class=\"sk-toggleable__control sk-hidden--visually\" id=\"sk-estimator-id-3\" type=\"checkbox\" checked><label for=\"sk-estimator-id-3\" class=\"sk-toggleable__label sk-toggleable__label-arrow\">CountVectorizer</label><div class=\"sk-toggleable__content\"><pre>CountVectorizer()</pre></div></div></div></div></div>"
      ],
      "text/plain": [
       "CountVectorizer()"
      ]
     },
     "execution_count": 32,
     "metadata": {},
     "output_type": "execute_result"
    }
   ],
   "source": [
    "vec=vec.fit(sentences)\n",
    "vec"
   ]
  },
  {
   "cell_type": "code",
   "execution_count": 33,
   "id": "3b0db8fd",
   "metadata": {},
   "outputs": [],
   "source": [
    "transformed_data=vec.transform(sentences)"
   ]
  },
  {
   "cell_type": "code",
   "execution_count": 34,
   "id": "412ed275",
   "metadata": {},
   "outputs": [
    {
     "data": {
      "text/plain": [
       "array([[1, 1, 1, 1, 0, 1, 0, 2, 0, 0, 0, 1, 2, 0, 1, 0, 1, 1],\n",
       "       [0, 0, 0, 0, 1, 0, 1, 0, 1, 2, 1, 0, 0, 0, 0, 1, 0, 0],\n",
       "       [0, 0, 0, 0, 0, 0, 0, 0, 0, 0, 0, 0, 0, 1, 0, 0, 0, 0]],\n",
       "      dtype=int64)"
      ]
     },
     "execution_count": 34,
     "metadata": {},
     "output_type": "execute_result"
    }
   ],
   "source": [
    "transformed_data.toarray()\n"
   ]
  },
  {
   "cell_type": "code",
   "execution_count": 35,
   "id": "37f9c533",
   "metadata": {},
   "outputs": [
    {
     "data": {
      "text/html": [
       "<div>\n",
       "<style scoped>\n",
       "    .dataframe tbody tr th:only-of-type {\n",
       "        vertical-align: middle;\n",
       "    }\n",
       "\n",
       "    .dataframe tbody tr th {\n",
       "        vertical-align: top;\n",
       "    }\n",
       "\n",
       "    .dataframe thead th {\n",
       "        text-align: right;\n",
       "    }\n",
       "</style>\n",
       "<table border=\"1\" class=\"dataframe\">\n",
       "  <thead>\n",
       "    <tr style=\"text-align: right;\">\n",
       "      <th></th>\n",
       "      <th>hint</th>\n",
       "      <th>of</th>\n",
       "      <th>controversy</th>\n",
       "      <th>as</th>\n",
       "      <th>we</th>\n",
       "      <th>wrap</th>\n",
       "      <th>up</th>\n",
       "      <th>the</th>\n",
       "      <th>coverage</th>\n",
       "      <th>3rd</th>\n",
       "      <th>t20i</th>\n",
       "      <th>was</th>\n",
       "      <th>rohit</th>\n",
       "      <th>declared</th>\n",
       "      <th>retired</th>\n",
       "      <th>out</th>\n",
       "      <th>hurt</th>\n",
       "      <th>there</th>\n",
       "    </tr>\n",
       "  </thead>\n",
       "  <tbody>\n",
       "    <tr>\n",
       "      <th>0</th>\n",
       "      <td>1</td>\n",
       "      <td>1</td>\n",
       "      <td>1</td>\n",
       "      <td>1</td>\n",
       "      <td>0</td>\n",
       "      <td>1</td>\n",
       "      <td>0</td>\n",
       "      <td>2</td>\n",
       "      <td>0</td>\n",
       "      <td>0</td>\n",
       "      <td>0</td>\n",
       "      <td>1</td>\n",
       "      <td>2</td>\n",
       "      <td>0</td>\n",
       "      <td>1</td>\n",
       "      <td>0</td>\n",
       "      <td>1</td>\n",
       "      <td>1</td>\n",
       "    </tr>\n",
       "    <tr>\n",
       "      <th>1</th>\n",
       "      <td>0</td>\n",
       "      <td>0</td>\n",
       "      <td>0</td>\n",
       "      <td>0</td>\n",
       "      <td>1</td>\n",
       "      <td>0</td>\n",
       "      <td>1</td>\n",
       "      <td>0</td>\n",
       "      <td>1</td>\n",
       "      <td>2</td>\n",
       "      <td>1</td>\n",
       "      <td>0</td>\n",
       "      <td>0</td>\n",
       "      <td>0</td>\n",
       "      <td>0</td>\n",
       "      <td>1</td>\n",
       "      <td>0</td>\n",
       "      <td>0</td>\n",
       "    </tr>\n",
       "    <tr>\n",
       "      <th>2</th>\n",
       "      <td>0</td>\n",
       "      <td>0</td>\n",
       "      <td>0</td>\n",
       "      <td>0</td>\n",
       "      <td>0</td>\n",
       "      <td>0</td>\n",
       "      <td>0</td>\n",
       "      <td>0</td>\n",
       "      <td>0</td>\n",
       "      <td>0</td>\n",
       "      <td>0</td>\n",
       "      <td>0</td>\n",
       "      <td>0</td>\n",
       "      <td>1</td>\n",
       "      <td>0</td>\n",
       "      <td>0</td>\n",
       "      <td>0</td>\n",
       "      <td>0</td>\n",
       "    </tr>\n",
       "  </tbody>\n",
       "</table>\n",
       "</div>"
      ],
      "text/plain": [
       "   hint  of  controversy  as  we  wrap  up  the  coverage  3rd  t20i  was  \\\n",
       "0     1   1            1   1   0     1   0    2         0    0     0    1   \n",
       "1     0   0            0   0   1     0   1    0         1    2     1    0   \n",
       "2     0   0            0   0   0     0   0    0         0    0     0    0   \n",
       "\n",
       "   rohit  declared  retired  out  hurt  there  \n",
       "0      2         0        1    0     1      1  \n",
       "1      0         0        0    1     0      0  \n",
       "2      0         1        0    0     0      0  "
      ]
     },
     "execution_count": 35,
     "metadata": {},
     "output_type": "execute_result"
    }
   ],
   "source": [
    "pd.DataFrame(transformed_data.toarray(),columns=vec.vocabulary_)"
   ]
  },
  {
   "cell_type": "code",
   "execution_count": 36,
   "id": "a4dd0a3e",
   "metadata": {},
   "outputs": [
    {
     "data": {
      "text/plain": [
       "array([[0, 0, 0, 0, 0, 0, 0, 0, 0, 0, 0, 0, 0, 1, 0, 0, 0, 0]],\n",
       "      dtype=int64)"
      ]
     },
     "execution_count": 36,
     "metadata": {},
     "output_type": "execute_result"
    }
   ],
   "source": [
    "vec.transform(['There Were 2 Mass Shootings In Texas Last Week, But Only 1 On TV']).toarray()"
   ]
  },
  {
   "cell_type": "markdown",
   "id": "b2a867a2",
   "metadata": {},
   "source": [
    "##### Removing stop words"
   ]
  },
  {
   "cell_type": "code",
   "execution_count": 37,
   "id": "551b9945",
   "metadata": {},
   "outputs": [
    {
     "name": "stdout",
     "output_type": "stream",
     "text": [
      "{'hint': 4, 'controversy': 1, 'wrap': 9, 'coverage': 2, '3rd': 0, 't20i': 8, 'rohit': 7, 'declared': 3, 'retired': 6, 'hurt': 5}\n"
     ]
    },
    {
     "data": {
      "text/html": [
       "<div>\n",
       "<style scoped>\n",
       "    .dataframe tbody tr th:only-of-type {\n",
       "        vertical-align: middle;\n",
       "    }\n",
       "\n",
       "    .dataframe tbody tr th {\n",
       "        vertical-align: top;\n",
       "    }\n",
       "\n",
       "    .dataframe thead th {\n",
       "        text-align: right;\n",
       "    }\n",
       "</style>\n",
       "<table border=\"1\" class=\"dataframe\">\n",
       "  <thead>\n",
       "    <tr style=\"text-align: right;\">\n",
       "      <th></th>\n",
       "      <th>hint</th>\n",
       "      <th>controversy</th>\n",
       "      <th>wrap</th>\n",
       "      <th>coverage</th>\n",
       "      <th>3rd</th>\n",
       "      <th>t20i</th>\n",
       "      <th>rohit</th>\n",
       "      <th>declared</th>\n",
       "      <th>retired</th>\n",
       "      <th>hurt</th>\n",
       "    </tr>\n",
       "  </thead>\n",
       "  <tbody>\n",
       "    <tr>\n",
       "      <th>0</th>\n",
       "      <td>1</td>\n",
       "      <td>1</td>\n",
       "      <td>1</td>\n",
       "      <td>0</td>\n",
       "      <td>1</td>\n",
       "      <td>0</td>\n",
       "      <td>0</td>\n",
       "      <td>0</td>\n",
       "      <td>1</td>\n",
       "      <td>1</td>\n",
       "    </tr>\n",
       "    <tr>\n",
       "      <th>1</th>\n",
       "      <td>0</td>\n",
       "      <td>0</td>\n",
       "      <td>0</td>\n",
       "      <td>1</td>\n",
       "      <td>0</td>\n",
       "      <td>1</td>\n",
       "      <td>2</td>\n",
       "      <td>1</td>\n",
       "      <td>0</td>\n",
       "      <td>0</td>\n",
       "    </tr>\n",
       "    <tr>\n",
       "      <th>2</th>\n",
       "      <td>0</td>\n",
       "      <td>0</td>\n",
       "      <td>0</td>\n",
       "      <td>0</td>\n",
       "      <td>0</td>\n",
       "      <td>0</td>\n",
       "      <td>0</td>\n",
       "      <td>0</td>\n",
       "      <td>0</td>\n",
       "      <td>0</td>\n",
       "    </tr>\n",
       "  </tbody>\n",
       "</table>\n",
       "</div>"
      ],
      "text/plain": [
       "   hint  controversy  wrap  coverage  3rd  t20i  rohit  declared  retired  \\\n",
       "0     1            1     1         0    1     0      0         0        1   \n",
       "1     0            0     0         1    0     1      2         1        0   \n",
       "2     0            0     0         0    0     0      0         0        0   \n",
       "\n",
       "   hurt  \n",
       "0     1  \n",
       "1     0  \n",
       "2     0  "
      ]
     },
     "execution_count": 37,
     "metadata": {},
     "output_type": "execute_result"
    }
   ],
   "source": [
    "vec=CountVectorizer(stop_words='english',)\n",
    "vec=vec.fit(sentences)\n",
    "transformed_data=vec.transform(sentences)\n",
    "print(vec.vocabulary_)\n",
    "transformed_data.toarray()\n",
    "pd.DataFrame(transformed_data.toarray(),columns=vec.vocabulary_)"
   ]
  },
  {
   "cell_type": "markdown",
   "id": "bc2dff2a",
   "metadata": {},
   "source": [
    "### Dealing with n gram"
   ]
  },
  {
   "cell_type": "code",
   "execution_count": 39,
   "id": "292e3985",
   "metadata": {},
   "outputs": [
    {
     "name": "stdout",
     "output_type": "stream",
     "text": [
      "{'hint': 8, 'controversy': 2, 'wrap': 17, 'coverage': 4, '3rd': 0, 't20i': 16, 'hint controversy': 9, 'controversy wrap': 3, 'wrap coverage': 18, 'coverage 3rd': 5, '3rd t20i': 1, 'rohit': 14, 'declared': 6, 'retired': 11, 'hurt': 10, 'rohit declared': 15, 'declared retired': 7, 'retired retired': 13, 'retired hurt': 12}\n"
     ]
    },
    {
     "data": {
      "text/html": [
       "<div>\n",
       "<style scoped>\n",
       "    .dataframe tbody tr th:only-of-type {\n",
       "        vertical-align: middle;\n",
       "    }\n",
       "\n",
       "    .dataframe tbody tr th {\n",
       "        vertical-align: top;\n",
       "    }\n",
       "\n",
       "    .dataframe thead th {\n",
       "        text-align: right;\n",
       "    }\n",
       "</style>\n",
       "<table border=\"1\" class=\"dataframe\">\n",
       "  <thead>\n",
       "    <tr style=\"text-align: right;\">\n",
       "      <th></th>\n",
       "      <th>hint</th>\n",
       "      <th>controversy</th>\n",
       "      <th>wrap</th>\n",
       "      <th>coverage</th>\n",
       "      <th>3rd</th>\n",
       "      <th>t20i</th>\n",
       "      <th>hint controversy</th>\n",
       "      <th>controversy wrap</th>\n",
       "      <th>wrap coverage</th>\n",
       "      <th>coverage 3rd</th>\n",
       "      <th>3rd t20i</th>\n",
       "      <th>rohit</th>\n",
       "      <th>declared</th>\n",
       "      <th>retired</th>\n",
       "      <th>hurt</th>\n",
       "      <th>rohit declared</th>\n",
       "      <th>declared retired</th>\n",
       "      <th>retired retired</th>\n",
       "      <th>retired hurt</th>\n",
       "    </tr>\n",
       "  </thead>\n",
       "  <tbody>\n",
       "    <tr>\n",
       "      <th>0</th>\n",
       "      <td>1</td>\n",
       "      <td>1</td>\n",
       "      <td>1</td>\n",
       "      <td>1</td>\n",
       "      <td>1</td>\n",
       "      <td>1</td>\n",
       "      <td>0</td>\n",
       "      <td>0</td>\n",
       "      <td>1</td>\n",
       "      <td>1</td>\n",
       "      <td>0</td>\n",
       "      <td>0</td>\n",
       "      <td>0</td>\n",
       "      <td>0</td>\n",
       "      <td>0</td>\n",
       "      <td>0</td>\n",
       "      <td>1</td>\n",
       "      <td>1</td>\n",
       "      <td>1</td>\n",
       "    </tr>\n",
       "    <tr>\n",
       "      <th>1</th>\n",
       "      <td>0</td>\n",
       "      <td>0</td>\n",
       "      <td>0</td>\n",
       "      <td>0</td>\n",
       "      <td>0</td>\n",
       "      <td>0</td>\n",
       "      <td>1</td>\n",
       "      <td>1</td>\n",
       "      <td>0</td>\n",
       "      <td>0</td>\n",
       "      <td>1</td>\n",
       "      <td>2</td>\n",
       "      <td>1</td>\n",
       "      <td>1</td>\n",
       "      <td>1</td>\n",
       "      <td>1</td>\n",
       "      <td>0</td>\n",
       "      <td>0</td>\n",
       "      <td>0</td>\n",
       "    </tr>\n",
       "    <tr>\n",
       "      <th>2</th>\n",
       "      <td>0</td>\n",
       "      <td>0</td>\n",
       "      <td>0</td>\n",
       "      <td>0</td>\n",
       "      <td>0</td>\n",
       "      <td>0</td>\n",
       "      <td>0</td>\n",
       "      <td>0</td>\n",
       "      <td>0</td>\n",
       "      <td>0</td>\n",
       "      <td>0</td>\n",
       "      <td>0</td>\n",
       "      <td>0</td>\n",
       "      <td>0</td>\n",
       "      <td>0</td>\n",
       "      <td>0</td>\n",
       "      <td>0</td>\n",
       "      <td>0</td>\n",
       "      <td>0</td>\n",
       "    </tr>\n",
       "  </tbody>\n",
       "</table>\n",
       "</div>"
      ],
      "text/plain": [
       "   hint  controversy  wrap  coverage  3rd  t20i  hint controversy  \\\n",
       "0     1            1     1         1    1     1                 0   \n",
       "1     0            0     0         0    0     0                 1   \n",
       "2     0            0     0         0    0     0                 0   \n",
       "\n",
       "   controversy wrap  wrap coverage  coverage 3rd  3rd t20i  rohit  declared  \\\n",
       "0                 0              1             1         0      0         0   \n",
       "1                 1              0             0         1      2         1   \n",
       "2                 0              0             0         0      0         0   \n",
       "\n",
       "   retired  hurt  rohit declared  declared retired  retired retired  \\\n",
       "0        0     0               0                 1                1   \n",
       "1        1     1               1                 0                0   \n",
       "2        0     0               0                 0                0   \n",
       "\n",
       "   retired hurt  \n",
       "0             1  \n",
       "1             0  \n",
       "2             0  "
      ]
     },
     "execution_count": 39,
     "metadata": {},
     "output_type": "execute_result"
    }
   ],
   "source": [
    "vec=CountVectorizer(stop_words='english',ngram_range=(1, 2))\n",
    "vec=vec.fit(sentences)\n",
    "transformed_data=vec.transform(sentences)\n",
    "print(vec.vocabulary_)\n",
    "transformed_data.toarray()\n",
    "pd.DataFrame(transformed_data.toarray(),columns=vec.vocabulary_)"
   ]
  },
  {
   "cell_type": "code",
   "execution_count": 42,
   "id": "6c81505a",
   "metadata": {},
   "outputs": [
    {
     "name": "stdout",
     "output_type": "stream",
     "text": [
      "{'hint': 11, 'controversy': 2, 'wrap': 23, 'coverage': 5, '3rd': 0, 't20i': 22, 'hint controversy': 12, 'controversy wrap': 3, 'wrap coverage': 24, 'coverage 3rd': 6, '3rd t20i': 1, 'hint controversy wrap': 13, 'controversy wrap coverage': 4, 'wrap coverage 3rd': 25, 'coverage 3rd t20i': 7, 'rohit': 19, 'declared': 8, 'retired': 15, 'hurt': 14, 'rohit declared': 20, 'declared retired': 9, 'retired retired': 17, 'retired hurt': 16, 'rohit declared retired': 21, 'declared retired retired': 10, 'retired retired hurt': 18}\n"
     ]
    },
    {
     "data": {
      "text/html": [
       "<div>\n",
       "<style scoped>\n",
       "    .dataframe tbody tr th:only-of-type {\n",
       "        vertical-align: middle;\n",
       "    }\n",
       "\n",
       "    .dataframe tbody tr th {\n",
       "        vertical-align: top;\n",
       "    }\n",
       "\n",
       "    .dataframe thead th {\n",
       "        text-align: right;\n",
       "    }\n",
       "</style>\n",
       "<table border=\"1\" class=\"dataframe\">\n",
       "  <thead>\n",
       "    <tr style=\"text-align: right;\">\n",
       "      <th></th>\n",
       "      <th>hint</th>\n",
       "      <th>controversy</th>\n",
       "      <th>wrap</th>\n",
       "      <th>coverage</th>\n",
       "      <th>3rd</th>\n",
       "      <th>t20i</th>\n",
       "      <th>hint controversy</th>\n",
       "      <th>controversy wrap</th>\n",
       "      <th>wrap coverage</th>\n",
       "      <th>coverage 3rd</th>\n",
       "      <th>...</th>\n",
       "      <th>declared</th>\n",
       "      <th>retired</th>\n",
       "      <th>hurt</th>\n",
       "      <th>rohit declared</th>\n",
       "      <th>declared retired</th>\n",
       "      <th>retired retired</th>\n",
       "      <th>retired hurt</th>\n",
       "      <th>rohit declared retired</th>\n",
       "      <th>declared retired retired</th>\n",
       "      <th>retired retired hurt</th>\n",
       "    </tr>\n",
       "  </thead>\n",
       "  <tbody>\n",
       "    <tr>\n",
       "      <th>0</th>\n",
       "      <td>1</td>\n",
       "      <td>1</td>\n",
       "      <td>1</td>\n",
       "      <td>1</td>\n",
       "      <td>1</td>\n",
       "      <td>1</td>\n",
       "      <td>1</td>\n",
       "      <td>1</td>\n",
       "      <td>0</td>\n",
       "      <td>0</td>\n",
       "      <td>...</td>\n",
       "      <td>0</td>\n",
       "      <td>0</td>\n",
       "      <td>0</td>\n",
       "      <td>0</td>\n",
       "      <td>0</td>\n",
       "      <td>0</td>\n",
       "      <td>1</td>\n",
       "      <td>1</td>\n",
       "      <td>1</td>\n",
       "      <td>1</td>\n",
       "    </tr>\n",
       "    <tr>\n",
       "      <th>1</th>\n",
       "      <td>0</td>\n",
       "      <td>0</td>\n",
       "      <td>0</td>\n",
       "      <td>0</td>\n",
       "      <td>0</td>\n",
       "      <td>0</td>\n",
       "      <td>0</td>\n",
       "      <td>0</td>\n",
       "      <td>1</td>\n",
       "      <td>1</td>\n",
       "      <td>...</td>\n",
       "      <td>1</td>\n",
       "      <td>1</td>\n",
       "      <td>1</td>\n",
       "      <td>1</td>\n",
       "      <td>1</td>\n",
       "      <td>1</td>\n",
       "      <td>0</td>\n",
       "      <td>0</td>\n",
       "      <td>0</td>\n",
       "      <td>0</td>\n",
       "    </tr>\n",
       "    <tr>\n",
       "      <th>2</th>\n",
       "      <td>0</td>\n",
       "      <td>0</td>\n",
       "      <td>0</td>\n",
       "      <td>0</td>\n",
       "      <td>0</td>\n",
       "      <td>0</td>\n",
       "      <td>0</td>\n",
       "      <td>0</td>\n",
       "      <td>0</td>\n",
       "      <td>0</td>\n",
       "      <td>...</td>\n",
       "      <td>0</td>\n",
       "      <td>0</td>\n",
       "      <td>0</td>\n",
       "      <td>0</td>\n",
       "      <td>0</td>\n",
       "      <td>0</td>\n",
       "      <td>0</td>\n",
       "      <td>0</td>\n",
       "      <td>0</td>\n",
       "      <td>0</td>\n",
       "    </tr>\n",
       "  </tbody>\n",
       "</table>\n",
       "<p>3 rows × 26 columns</p>\n",
       "</div>"
      ],
      "text/plain": [
       "   hint  controversy  wrap  coverage  3rd  t20i  hint controversy  \\\n",
       "0     1            1     1         1    1     1                 1   \n",
       "1     0            0     0         0    0     0                 0   \n",
       "2     0            0     0         0    0     0                 0   \n",
       "\n",
       "   controversy wrap  wrap coverage  coverage 3rd  ...  declared  retired  \\\n",
       "0                 1              0             0  ...         0        0   \n",
       "1                 0              1             1  ...         1        1   \n",
       "2                 0              0             0  ...         0        0   \n",
       "\n",
       "   hurt  rohit declared  declared retired  retired retired  retired hurt  \\\n",
       "0     0               0                 0                0             1   \n",
       "1     1               1                 1                1             0   \n",
       "2     0               0                 0                0             0   \n",
       "\n",
       "   rohit declared retired  declared retired retired  retired retired hurt  \n",
       "0                       1                         1                     1  \n",
       "1                       0                         0                     0  \n",
       "2                       0                         0                     0  \n",
       "\n",
       "[3 rows x 26 columns]"
      ]
     },
     "execution_count": 42,
     "metadata": {},
     "output_type": "execute_result"
    }
   ],
   "source": [
    "vec=CountVectorizer(stop_words='english',ngram_range=(1, 3))\n",
    "vec=vec.fit(sentences)\n",
    "transformed_data=vec.transform(sentences)\n",
    "print(vec.vocabulary_)\n",
    "transformed_data.toarray()\n",
    "pd.DataFrame(transformed_data.toarray(),columns=vec.vocabulary_)"
   ]
  },
  {
   "cell_type": "code",
   "execution_count": null,
   "id": "37d06507",
   "metadata": {},
   "outputs": [],
   "source": []
  },
  {
   "cell_type": "code",
   "execution_count": null,
   "id": "e0c90bcd",
   "metadata": {},
   "outputs": [],
   "source": []
  }
 ],
 "metadata": {
  "kernelspec": {
   "display_name": "Python 3 (ipykernel)",
   "language": "python",
   "name": "python3"
  },
  "language_info": {
   "codemirror_mode": {
    "name": "ipython",
    "version": 3
   },
   "file_extension": ".py",
   "mimetype": "text/x-python",
   "name": "python",
   "nbconvert_exporter": "python",
   "pygments_lexer": "ipython3",
   "version": "3.11.5"
  }
 },
 "nbformat": 4,
 "nbformat_minor": 5
}
